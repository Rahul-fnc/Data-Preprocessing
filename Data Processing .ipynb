{
 "cells": [
  {
   "cell_type": "code",
   "execution_count": 1,
   "id": "fd8850e1",
   "metadata": {},
   "outputs": [],
   "source": [
    "import numpy as np\n",
    "import pandas as pd\n",
    "import matplotlib.pyplot as plt\n",
    "import seaborn as sns\n",
    "import os\n"
   ]
  },
  {
   "cell_type": "code",
   "execution_count": 2,
   "id": "841ab60b",
   "metadata": {},
   "outputs": [
    {
     "name": "stdout",
     "output_type": "stream",
     "text": [
      "   Country   Age   Salary  Purchased \n",
      "0   France   44.0  72000.0         No\n",
      "1       NaN  27.0  48000.0        Yes\n",
      "2  Germany    NaN  54000.0         No\n",
      "3    Spain   39.0      NaN         No\n",
      "4  Germany    NaN  64000.0        Yes\n",
      "5   France   35.0  58000.0        Yes\n",
      "6    Spain   39.0  52000.0         No\n",
      "7   France   48.0      NaN        Yes\n",
      "8  Germany   50.0  83000.0         No\n",
      "9   France   37.0  67000.0        Yes\n"
     ]
    }
   ],
   "source": [
    "df1= pd.read_excel(\"Data Preprocessing Data File.xlsx\")\t\n",
    "print (df1)\n"
   ]
  },
  {
   "cell_type": "code",
   "execution_count": 4,
   "id": "3ddc20c2",
   "metadata": {},
   "outputs": [
    {
     "data": {
      "text/plain": [
       "array([['France ', 44.0, 72000.0],\n",
       "       [nan, 27.0, 48000.0],\n",
       "       ['Germany ', nan, 54000.0],\n",
       "       ['Spain ', 39.0, nan],\n",
       "       ['Germany ', nan, 64000.0],\n",
       "       ['France ', 35.0, 58000.0],\n",
       "       ['Spain ', 39.0, 52000.0],\n",
       "       ['France ', 48.0, nan],\n",
       "       ['Germany ', 50.0, 83000.0],\n",
       "       ['France ', 37.0, 67000.0]], dtype=object)"
      ]
     },
     "execution_count": 4,
     "metadata": {},
     "output_type": "execute_result"
    }
   ],
   "source": [
    "x = df1.iloc [:, :-1].values\n",
    "x"
   ]
  },
  {
   "cell_type": "code",
   "execution_count": 5,
   "id": "adb1cd55",
   "metadata": {},
   "outputs": [
    {
     "data": {
      "text/plain": [
       "array(['No', 'Yes', 'No', 'No', 'Yes', 'Yes', 'No', 'Yes', 'No', 'Yes'],\n",
       "      dtype=object)"
      ]
     },
     "execution_count": 5,
     "metadata": {},
     "output_type": "execute_result"
    }
   ],
   "source": [
    "y = df1.iloc [:, -1].values\n",
    "y"
   ]
  },
  {
   "cell_type": "code",
   "execution_count": 9,
   "id": "92542e11",
   "metadata": {},
   "outputs": [
    {
     "data": {
      "text/plain": [
       "array([[44.0],\n",
       "       [27.0],\n",
       "       [nan],\n",
       "       [39.0],\n",
       "       [nan],\n",
       "       [35.0],\n",
       "       [39.0],\n",
       "       [48.0],\n",
       "       [50.0],\n",
       "       [37.0]], dtype=object)"
      ]
     },
     "execution_count": 9,
     "metadata": {},
     "output_type": "execute_result"
    }
   ],
   "source": [
    "x[:,1:2]"
   ]
  },
  {
   "cell_type": "code",
   "execution_count": 12,
   "id": "5c82188d",
   "metadata": {},
   "outputs": [],
   "source": [
    "from sklearn.impute import SimpleImputer\n",
    "si=  SimpleImputer()\n",
    "x[:,1:2]= si.fit_transform(x[:,1:2])"
   ]
  },
  {
   "cell_type": "code",
   "execution_count": 13,
   "id": "a95d5b40",
   "metadata": {},
   "outputs": [
    {
     "name": "stdout",
     "output_type": "stream",
     "text": [
      "[['France ' 44.0 72000.0]\n",
      " [nan 27.0 48000.0]\n",
      " ['Germany ' 39.875 54000.0]\n",
      " ['Spain ' 39.0 nan]\n",
      " ['Germany ' 39.875 64000.0]\n",
      " ['France ' 35.0 58000.0]\n",
      " ['Spain ' 39.0 52000.0]\n",
      " ['France ' 48.0 nan]\n",
      " ['Germany ' 50.0 83000.0]\n",
      " ['France ' 37.0 67000.0]]\n"
     ]
    }
   ],
   "source": [
    "print (x)"
   ]
  },
  {
   "cell_type": "code",
   "execution_count": 14,
   "id": "6801860f",
   "metadata": {},
   "outputs": [
    {
     "data": {
      "text/plain": [
       "array([['France ', 44.0, 72000.0],\n",
       "       [nan, 27.0, 48000.0],\n",
       "       ['Germany ', 39.875, 54000.0],\n",
       "       ['Spain ', 39.0, 62250.0],\n",
       "       ['Germany ', 39.875, 64000.0],\n",
       "       ['France ', 35.0, 58000.0],\n",
       "       ['Spain ', 39.0, 52000.0],\n",
       "       ['France ', 48.0, 62250.0],\n",
       "       ['Germany ', 50.0, 83000.0],\n",
       "       ['France ', 37.0, 67000.0]], dtype=object)"
      ]
     },
     "execution_count": 14,
     "metadata": {},
     "output_type": "execute_result"
    }
   ],
   "source": [
    "from sklearn.impute import SimpleImputer\n",
    "si=  SimpleImputer()\n",
    "x[:,2:3]= si.fit_transform(x[:,2:3])\n",
    "x"
   ]
  },
  {
   "cell_type": "code",
   "execution_count": 16,
   "id": "8fe7fe35",
   "metadata": {},
   "outputs": [
    {
     "data": {
      "text/plain": [
       "array([['France ', 44.0, 72000.0],\n",
       "       ['France ', 27.0, 48000.0],\n",
       "       ['Germany ', 39.875, 54000.0],\n",
       "       ['Spain ', 39.0, 62250.0],\n",
       "       ['Germany ', 39.875, 64000.0],\n",
       "       ['France ', 35.0, 58000.0],\n",
       "       ['Spain ', 39.0, 52000.0],\n",
       "       ['France ', 48.0, 62250.0],\n",
       "       ['Germany ', 50.0, 83000.0],\n",
       "       ['France ', 37.0, 67000.0]], dtype=object)"
      ]
     },
     "execution_count": 16,
     "metadata": {},
     "output_type": "execute_result"
    }
   ],
   "source": [
    "from sklearn.impute import SimpleImputer\n",
    "si=  SimpleImputer(strategy='most_frequent')\n",
    "x[:,0:1]= si.fit_transform(x[:,0:1])\n",
    "x"
   ]
  },
  {
   "cell_type": "code",
   "execution_count": 19,
   "id": "60103b2a",
   "metadata": {},
   "outputs": [
    {
     "name": "stdout",
     "output_type": "stream",
     "text": [
      "[[0 44.0 72000.0]\n",
      " [0 27.0 48000.0]\n",
      " [1 39.875 54000.0]\n",
      " [2 39.0 62250.0]\n",
      " [1 39.875 64000.0]\n",
      " [0 35.0 58000.0]\n",
      " [2 39.0 52000.0]\n",
      " [0 48.0 62250.0]\n",
      " [1 50.0 83000.0]\n",
      " [0 37.0 67000.0]]\n"
     ]
    }
   ],
   "source": [
    "from sklearn.preprocessing import LabelEncoder\n",
    "le = LabelEncoder()\n",
    "x[:,0]= le.fit_transform (x[:,0])\n",
    "print (x)"
   ]
  },
  {
   "cell_type": "code",
   "execution_count": 27,
   "id": "1850ee75",
   "metadata": {},
   "outputs": [
    {
     "data": {
      "text/plain": [
       "array([[1.0, 0.0, 0.0, 44.0, 72000.0],\n",
       "       [1.0, 0.0, 0.0, 27.0, 48000.0],\n",
       "       [0.0, 1.0, 0.0, 39.875, 54000.0],\n",
       "       [0.0, 0.0, 1.0, 39.0, 62250.0],\n",
       "       [0.0, 1.0, 0.0, 39.875, 64000.0],\n",
       "       [1.0, 0.0, 0.0, 35.0, 58000.0],\n",
       "       [0.0, 0.0, 1.0, 39.0, 52000.0],\n",
       "       [1.0, 0.0, 0.0, 48.0, 62250.0],\n",
       "       [0.0, 1.0, 0.0, 50.0, 83000.0],\n",
       "       [1.0, 0.0, 0.0, 37.0, 67000.0]], dtype=object)"
      ]
     },
     "metadata": {},
     "output_type": "display_data"
    }
   ],
   "source": [
    "from sklearn.compose import ColumnTransformer\n",
    "from sklearn.preprocessing import OneHotEncoder\n",
    "ct= ColumnTransformer(transformers= [('onehot',OneHotEncoder(), [0] )], remainder = 'passthrough')\n",
    "x= ct.fit_transform (x)\n",
    "display (x)\n"
   ]
  },
  {
   "cell_type": "code",
   "execution_count": 28,
   "id": "a8506f8b",
   "metadata": {},
   "outputs": [
    {
     "data": {
      "text/plain": [
       "array(['No', 'Yes', 'No', 'No', 'Yes', 'Yes', 'No', 'Yes', 'No', 'Yes'],\n",
       "      dtype=object)"
      ]
     },
     "execution_count": 28,
     "metadata": {},
     "output_type": "execute_result"
    }
   ],
   "source": [
    "y"
   ]
  },
  {
   "cell_type": "code",
   "execution_count": 29,
   "id": "6ab78f4e",
   "metadata": {},
   "outputs": [
    {
     "name": "stdout",
     "output_type": "stream",
     "text": [
      "[0 1 0 0 1 1 0 1 0 1]\n"
     ]
    }
   ],
   "source": [
    "from sklearn.preprocessing import LabelEncoder\n",
    "ley = LabelEncoder()\n",
    "y= ley.fit_transform (y)\n",
    "print (y)"
   ]
  },
  {
   "cell_type": "code",
   "execution_count": 30,
   "id": "88388f92",
   "metadata": {},
   "outputs": [
    {
     "data": {
      "text/plain": [
       "array([[1.0, 0.0, 0.0, 44.0, 72000.0],\n",
       "       [1.0, 0.0, 0.0, 27.0, 48000.0],\n",
       "       [0.0, 1.0, 0.0, 39.875, 54000.0],\n",
       "       [0.0, 0.0, 1.0, 39.0, 62250.0],\n",
       "       [0.0, 1.0, 0.0, 39.875, 64000.0],\n",
       "       [1.0, 0.0, 0.0, 35.0, 58000.0],\n",
       "       [0.0, 0.0, 1.0, 39.0, 52000.0],\n",
       "       [1.0, 0.0, 0.0, 48.0, 62250.0],\n",
       "       [0.0, 1.0, 0.0, 50.0, 83000.0],\n",
       "       [1.0, 0.0, 0.0, 37.0, 67000.0]], dtype=object)"
      ]
     },
     "execution_count": 30,
     "metadata": {},
     "output_type": "execute_result"
    }
   ],
   "source": [
    "x"
   ]
  },
  {
   "cell_type": "code",
   "execution_count": 31,
   "id": "db9b0d56",
   "metadata": {},
   "outputs": [
    {
     "data": {
      "text/plain": [
       "array([0, 1, 0, 0, 1, 1, 0, 1, 0, 1])"
      ]
     },
     "execution_count": 31,
     "metadata": {},
     "output_type": "execute_result"
    }
   ],
   "source": [
    "y"
   ]
  },
  {
   "cell_type": "code",
   "execution_count": 32,
   "id": "ad147a7f",
   "metadata": {},
   "outputs": [
    {
     "name": "stdout",
     "output_type": "stream",
     "text": [
      "     0         1    2         3         4\n",
      "0  1.0 -0.654654 -0.5  0.664912  1.002707\n",
      "1  1.0 -0.654654 -0.5 -2.075331 -1.465494\n",
      "2 -1.0  1.527525 -0.5  0.000000 -0.848444\n",
      "3 -1.0 -0.654654  2.0 -0.141042  0.000000\n",
      "4 -1.0  1.527525 -0.5  0.000000  0.179973\n",
      "5  1.0 -0.654654 -0.5 -0.785805 -0.437077\n",
      "6 -1.0 -0.654654  2.0 -0.141042 -1.054127\n",
      "7  1.0 -0.654654 -0.5  1.309675  0.000000\n",
      "8 -1.0  1.527525 -0.5  1.632056  2.133965\n",
      "9  1.0 -0.654654 -0.5 -0.463423  0.488498\n"
     ]
    }
   ],
   "source": [
    "from sklearn.preprocessing import StandardScaler\n",
    "std_sca= StandardScaler()\n",
    "x_STD = std_sca.fit_transform(x)\n",
    "print (pd.DataFrame(x_STD))\n"
   ]
  },
  {
   "cell_type": "code",
   "execution_count": 33,
   "id": "cc3c63c3",
   "metadata": {},
   "outputs": [
    {
     "name": "stdout",
     "output_type": "stream",
     "text": [
      "     0    1    2         3         4\n",
      "0  1.0  0.0  0.0  0.739130  0.685714\n",
      "1  1.0  0.0  0.0  0.000000  0.000000\n",
      "2  0.0  1.0  0.0  0.559783  0.171429\n",
      "3  0.0  0.0  1.0  0.521739  0.407143\n",
      "4  0.0  1.0  0.0  0.559783  0.457143\n",
      "5  1.0  0.0  0.0  0.347826  0.285714\n",
      "6  0.0  0.0  1.0  0.521739  0.114286\n",
      "7  1.0  0.0  0.0  0.913043  0.407143\n",
      "8  0.0  1.0  0.0  1.000000  1.000000\n",
      "9  1.0  0.0  0.0  0.434783  0.542857\n"
     ]
    }
   ],
   "source": [
    "from sklearn.preprocessing import MinMaxScaler\n",
    "Nm_x= MinMaxScaler()\n",
    "x_NOR = Nm_x.fit_transform(x)\n",
    "print (pd.DataFrame(x_NOR))\n",
    "\n",
    "\n"
   ]
  },
  {
   "cell_type": "code",
   "execution_count": 35,
   "id": "48080db0",
   "metadata": {},
   "outputs": [
    {
     "data": {
      "text/plain": [
       "array([[1.0, 0.0, 0.0, 44.0, 72000.0],\n",
       "       [1.0, 0.0, 0.0, 27.0, 48000.0],\n",
       "       [0.0, 1.0, 0.0, 39.875, 54000.0],\n",
       "       [0.0, 0.0, 1.0, 39.0, 62250.0],\n",
       "       [0.0, 1.0, 0.0, 39.875, 64000.0],\n",
       "       [1.0, 0.0, 0.0, 35.0, 58000.0],\n",
       "       [0.0, 0.0, 1.0, 39.0, 52000.0],\n",
       "       [1.0, 0.0, 0.0, 48.0, 62250.0],\n",
       "       [0.0, 1.0, 0.0, 50.0, 83000.0],\n",
       "       [1.0, 0.0, 0.0, 37.0, 67000.0]], dtype=object)"
      ]
     },
     "execution_count": 35,
     "metadata": {},
     "output_type": "execute_result"
    }
   ],
   "source": [
    "x"
   ]
  },
  {
   "cell_type": "code",
   "execution_count": 34,
   "id": "90fddf93",
   "metadata": {},
   "outputs": [
    {
     "name": "stdout",
     "output_type": "stream",
     "text": [
      "          0         1         2         3    4\n",
      "0  0.000014  0.000000  0.000000  0.000611  1.0\n",
      "1  0.000021  0.000000  0.000000  0.000562  1.0\n",
      "2  0.000000  0.000019  0.000000  0.000738  1.0\n",
      "3  0.000000  0.000000  0.000016  0.000627  1.0\n",
      "4  0.000000  0.000016  0.000000  0.000623  1.0\n",
      "5  0.000017  0.000000  0.000000  0.000603  1.0\n",
      "6  0.000000  0.000000  0.000019  0.000750  1.0\n",
      "7  0.000016  0.000000  0.000000  0.000771  1.0\n",
      "8  0.000000  0.000012  0.000000  0.000602  1.0\n",
      "9  0.000015  0.000000  0.000000  0.000552  1.0\n"
     ]
    }
   ],
   "source": [
    "from sklearn.preprocessing import Normalizer\n",
    "Nm_x= Normalizer()\n",
    "x_NOR = Nm_x.fit_transform(x)\n",
    "print (pd.DataFrame(x_NOR))\n"
   ]
  },
  {
   "cell_type": "code",
   "execution_count": 36,
   "id": "f9b8bd0a",
   "metadata": {},
   "outputs": [
    {
     "data": {
      "text/plain": [
       "array([[1.0, 0.0, 0.0, 44.0, 72000.0],\n",
       "       [1.0, 0.0, 0.0, 27.0, 48000.0],\n",
       "       [0.0, 1.0, 0.0, 39.875, 54000.0],\n",
       "       [0.0, 0.0, 1.0, 39.0, 62250.0],\n",
       "       [0.0, 1.0, 0.0, 39.875, 64000.0],\n",
       "       [1.0, 0.0, 0.0, 35.0, 58000.0],\n",
       "       [0.0, 0.0, 1.0, 39.0, 52000.0],\n",
       "       [1.0, 0.0, 0.0, 48.0, 62250.0],\n",
       "       [0.0, 1.0, 0.0, 50.0, 83000.0],\n",
       "       [1.0, 0.0, 0.0, 37.0, 67000.0]], dtype=object)"
      ]
     },
     "execution_count": 36,
     "metadata": {},
     "output_type": "execute_result"
    }
   ],
   "source": [
    "x"
   ]
  },
  {
   "cell_type": "code",
   "execution_count": 39,
   "id": "2f413f18",
   "metadata": {},
   "outputs": [
    {
     "data": {
      "text/plain": [
       "[array([[1.60642523e-05, 0.00000000e+00, 0.00000000e+00, 7.71084108e-04,\n",
       "         9.99999703e-01],\n",
       "        [0.00000000e+00, 0.00000000e+00, 1.92307638e-05, 7.49999789e-04,\n",
       "         9.99999719e-01],\n",
       "        [1.38888863e-05, 0.00000000e+00, 0.00000000e+00, 6.11110997e-04,\n",
       "         9.99999813e-01],\n",
       "        [1.72413762e-05, 0.00000000e+00, 0.00000000e+00, 6.03448166e-04,\n",
       "         9.99999818e-01],\n",
       "        [1.49253709e-05, 0.00000000e+00, 0.00000000e+00, 5.52238722e-04,\n",
       "         9.99999847e-01],\n",
       "        [2.08333300e-05, 0.00000000e+00, 0.00000000e+00, 5.62499911e-04,\n",
       "         9.99999842e-01],\n",
       "        [0.00000000e+00, 0.00000000e+00, 1.60642539e-05, 6.26505901e-04,\n",
       "         9.99999804e-01]]),\n",
       " array([[0.00000000e+00, 1.85185135e-05, 0.00000000e+00, 7.38425724e-04,\n",
       "         9.99999727e-01],\n",
       "        [0.00000000e+00, 1.20481906e-05, 0.00000000e+00, 6.02409529e-04,\n",
       "         9.99999818e-01],\n",
       "        [0.00000000e+00, 1.56249970e-05, 0.00000000e+00, 6.23046754e-04,\n",
       "         9.99999806e-01]])]"
      ]
     },
     "execution_count": 39,
     "metadata": {},
     "output_type": "execute_result"
    }
   ],
   "source": [
    "from sklearn.model_selection import train_test_split\n",
    "train_test_split(x_NOR)"
   ]
  },
  {
   "cell_type": "code",
   "execution_count": 40,
   "id": "af67626b",
   "metadata": {},
   "outputs": [
    {
     "data": {
      "text/plain": [
       "[array([[1.49253709e-05, 0.00000000e+00, 0.00000000e+00, 5.52238722e-04,\n",
       "         9.99999847e-01],\n",
       "        [1.60642523e-05, 0.00000000e+00, 0.00000000e+00, 7.71084108e-04,\n",
       "         9.99999703e-01],\n",
       "        [0.00000000e+00, 0.00000000e+00, 1.60642539e-05, 6.26505901e-04,\n",
       "         9.99999804e-01],\n",
       "        [0.00000000e+00, 1.56249970e-05, 0.00000000e+00, 6.23046754e-04,\n",
       "         9.99999806e-01],\n",
       "        [0.00000000e+00, 1.20481906e-05, 0.00000000e+00, 6.02409529e-04,\n",
       "         9.99999818e-01],\n",
       "        [0.00000000e+00, 0.00000000e+00, 1.92307638e-05, 7.49999789e-04,\n",
       "         9.99999719e-01],\n",
       "        [1.38888863e-05, 0.00000000e+00, 0.00000000e+00, 6.11110997e-04,\n",
       "         9.99999813e-01],\n",
       "        [1.72413762e-05, 0.00000000e+00, 0.00000000e+00, 6.03448166e-04,\n",
       "         9.99999818e-01]]),\n",
       " array([[2.08333300e-05, 0.00000000e+00, 0.00000000e+00, 5.62499911e-04,\n",
       "         9.99999842e-01],\n",
       "        [0.00000000e+00, 1.85185135e-05, 0.00000000e+00, 7.38425724e-04,\n",
       "         9.99999727e-01]]),\n",
       " array([1, 1, 0, 1, 0, 0, 0, 1]),\n",
       " array([1, 0])]"
      ]
     },
     "execution_count": 40,
     "metadata": {},
     "output_type": "execute_result"
    }
   ],
   "source": [
    "train_test_split (x_NOR,y,test_size = 0.2)"
   ]
  },
  {
   "cell_type": "code",
   "execution_count": 41,
   "id": "b15e45a6",
   "metadata": {},
   "outputs": [
    {
     "data": {
      "text/plain": [
       "[array([[1.72413762e-05, 0.00000000e+00, 0.00000000e+00, 6.03448166e-04,\n",
       "         9.99999818e-01],\n",
       "        [0.00000000e+00, 0.00000000e+00, 1.60642539e-05, 6.26505901e-04,\n",
       "         9.99999804e-01],\n",
       "        [1.49253709e-05, 0.00000000e+00, 0.00000000e+00, 5.52238722e-04,\n",
       "         9.99999847e-01],\n",
       "        [0.00000000e+00, 1.56249970e-05, 0.00000000e+00, 6.23046754e-04,\n",
       "         9.99999806e-01],\n",
       "        [0.00000000e+00, 0.00000000e+00, 1.92307638e-05, 7.49999789e-04,\n",
       "         9.99999719e-01],\n",
       "        [0.00000000e+00, 1.20481906e-05, 0.00000000e+00, 6.02409529e-04,\n",
       "         9.99999818e-01],\n",
       "        [1.60642523e-05, 0.00000000e+00, 0.00000000e+00, 7.71084108e-04,\n",
       "         9.99999703e-01],\n",
       "        [2.08333300e-05, 0.00000000e+00, 0.00000000e+00, 5.62499911e-04,\n",
       "         9.99999842e-01]]),\n",
       " array([[1.38888863e-05, 0.00000000e+00, 0.00000000e+00, 6.11110997e-04,\n",
       "         9.99999813e-01],\n",
       "        [0.00000000e+00, 1.85185135e-05, 0.00000000e+00, 7.38425724e-04,\n",
       "         9.99999727e-01]]),\n",
       " array([1, 0, 1, 1, 0, 0, 1, 1]),\n",
       " array([0, 0])]"
      ]
     },
     "execution_count": 41,
     "metadata": {},
     "output_type": "execute_result"
    }
   ],
   "source": [
    "train_test_split (x_NOR,y,test_size = 0.2)"
   ]
  },
  {
   "cell_type": "code",
   "execution_count": 42,
   "id": "d6f98944",
   "metadata": {},
   "outputs": [
    {
     "name": "stdout",
     "output_type": "stream",
     "text": [
      "          0         1         2         3    4\n",
      "0  0.000014  0.000000  0.000000  0.000611  1.0\n",
      "1  0.000021  0.000000  0.000000  0.000562  1.0\n",
      "2  0.000000  0.000000  0.000019  0.000750  1.0\n",
      "3  0.000000  0.000016  0.000000  0.000623  1.0\n",
      "4  0.000015  0.000000  0.000000  0.000552  1.0\n",
      "5  0.000000  0.000012  0.000000  0.000602  1.0\n",
      "6  0.000000  0.000019  0.000000  0.000738  1.0\n",
      "7  0.000017  0.000000  0.000000  0.000603  1.0 [0 1 0 1 1 0 0 1]\n"
     ]
    }
   ],
   "source": [
    "from sklearn.model_selection import train_test_split\n",
    "x_train,x_test, y_train,y_test = train_test_split (x_NOR,y,test_size = 0.2)\n",
    "print (pd.DataFrame(x_train), y_train)\n"
   ]
  },
  {
   "cell_type": "code",
   "execution_count": null,
   "id": "6b493b39",
   "metadata": {},
   "outputs": [],
   "source": []
  },
  {
   "cell_type": "code",
   "execution_count": null,
   "id": "6d93fbb2",
   "metadata": {},
   "outputs": [],
   "source": []
  },
  {
   "cell_type": "code",
   "execution_count": null,
   "id": "b8af1815",
   "metadata": {},
   "outputs": [],
   "source": []
  },
  {
   "cell_type": "code",
   "execution_count": null,
   "id": "88102d5b",
   "metadata": {},
   "outputs": [],
   "source": []
  }
 ],
 "metadata": {
  "kernelspec": {
   "display_name": "Python 3 (ipykernel)",
   "language": "python",
   "name": "python3"
  },
  "language_info": {
   "codemirror_mode": {
    "name": "ipython",
    "version": 3
   },
   "file_extension": ".py",
   "mimetype": "text/x-python",
   "name": "python",
   "nbconvert_exporter": "python",
   "pygments_lexer": "ipython3",
   "version": "3.9.13"
  }
 },
 "nbformat": 4,
 "nbformat_minor": 5
}
